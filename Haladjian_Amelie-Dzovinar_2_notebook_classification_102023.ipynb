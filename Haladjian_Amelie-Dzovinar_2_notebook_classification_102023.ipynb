{
 "cells": [
  {
   "cell_type": "code",
   "execution_count": 96,
   "metadata": {},
   "outputs": [
    {
     "name": "stdout",
     "output_type": "stream",
     "text": [
      "Num GPUs Available:  0\n"
     ]
    }
   ],
   "source": [
    "import pandas as pd\n",
    "import numpy as np\n",
    "import matplotlib.pyplot as plt\n",
    "import seaborn as sns\n",
    "%matplotlib inline\n",
    "import os\n",
    "from os import listdir\n",
    "from sklearn.model_selection import train_test_split\n",
    "from sklearn.metrics import accuracy_score, auc, roc_auc_score, roc_curve, confusion_matrix, classification_report\n",
    "from glob import glob\n",
    "from sklearn import preprocessing\n",
    "\n",
    "import tensorflow as tf\n",
    "from tensorflow.keras.models import Model, Sequential\n",
    "from tensorflow.keras.layers import GlobalAveragePooling2D, GlobalAveragePooling1D, Flatten, Dense, Dropout \n",
    "from tensorflow.keras.layers import Rescaling, RandomFlip, RandomRotation, RandomZoom\n",
    "from tensorflow.keras.callbacks import EarlyStopping, ModelCheckpoint\n",
    "from tensorflow.keras.applications.vgg16 import VGG16\n",
    "from tensorflow.keras.applications.vgg16 import preprocess_input\n",
    "from tensorflow.keras.preprocessing.image import load_img, img_to_array\n",
    "from tensorflow.keras.utils import to_categorical\n",
    "\n",
    "# os.environ[\"TF_KERAS\"]='1'\n",
    "print(\"Num GPUs Available: \", len(tf.config.list_physical_devices('GPU')))"
   ]
  },
  {
   "cell_type": "markdown",
   "metadata": {},
   "source": [
    "# Importing Data"
   ]
  },
  {
   "cell_type": "code",
   "execution_count": 75,
   "metadata": {},
   "outputs": [
    {
     "name": "stdout",
     "output_type": "stream",
     "text": [
      "(1050, 15)\n"
     ]
    }
   ],
   "source": [
    "raw_data = pd.read_csv(\"data/flipkart_com-ecommerce_sample_1050.csv\")\n",
    "print(raw_data.shape)"
   ]
  },
  {
   "cell_type": "code",
   "execution_count": 102,
   "metadata": {},
   "outputs": [],
   "source": [
    "def extract_category(df):\n",
    "    df[\"category\"] = df[\"product_category_tree\"].apply(\n",
    "        lambda category_tree: category_tree.split(\" >>\")[0].replace('[\"', \"\")\n",
    "    )\n",
    "\n",
    "    return df\n",
    "\n",
    "data = extract_category(raw_data)\n",
    "\n",
    "le = preprocessing.LabelEncoder()\n",
    "le.fit(data[\"category\"])\n",
    "data[\"encoded_category\"] = le.transform(data[\"category\"])"
   ]
  },
  {
   "cell_type": "code",
   "execution_count": 77,
   "metadata": {},
   "outputs": [
    {
     "data": {
      "text/html": [
       "<div>\n",
       "<style scoped>\n",
       "    .dataframe tbody tr th:only-of-type {\n",
       "        vertical-align: middle;\n",
       "    }\n",
       "\n",
       "    .dataframe tbody tr th {\n",
       "        vertical-align: top;\n",
       "    }\n",
       "\n",
       "    .dataframe thead th {\n",
       "        text-align: right;\n",
       "    }\n",
       "</style>\n",
       "<table border=\"1\" class=\"dataframe\">\n",
       "  <thead>\n",
       "    <tr style=\"text-align: right;\">\n",
       "      <th></th>\n",
       "      <th>category</th>\n",
       "      <th>encoded_category</th>\n",
       "      <th>image</th>\n",
       "    </tr>\n",
       "  </thead>\n",
       "  <tbody>\n",
       "    <tr>\n",
       "      <th>0</th>\n",
       "      <td>Home Furnishing</td>\n",
       "      <td>4</td>\n",
       "      <td>55b85ea15a1536d46b7190ad6fff8ce7.jpg</td>\n",
       "    </tr>\n",
       "    <tr>\n",
       "      <th>1</th>\n",
       "      <td>Baby Care</td>\n",
       "      <td>0</td>\n",
       "      <td>7b72c92c2f6c40268628ec5f14c6d590.jpg</td>\n",
       "    </tr>\n",
       "    <tr>\n",
       "      <th>2</th>\n",
       "      <td>Baby Care</td>\n",
       "      <td>0</td>\n",
       "      <td>64d5d4a258243731dc7bbb1eef49ad74.jpg</td>\n",
       "    </tr>\n",
       "    <tr>\n",
       "      <th>3</th>\n",
       "      <td>Home Furnishing</td>\n",
       "      <td>4</td>\n",
       "      <td>d4684dcdc759dd9cdf41504698d737d8.jpg</td>\n",
       "    </tr>\n",
       "    <tr>\n",
       "      <th>4</th>\n",
       "      <td>Home Furnishing</td>\n",
       "      <td>4</td>\n",
       "      <td>6325b6870c54cd47be6ebfbffa620ec7.jpg</td>\n",
       "    </tr>\n",
       "    <tr>\n",
       "      <th>...</th>\n",
       "      <td>...</td>\n",
       "      <td>...</td>\n",
       "      <td>...</td>\n",
       "    </tr>\n",
       "    <tr>\n",
       "      <th>1045</th>\n",
       "      <td>Baby Care</td>\n",
       "      <td>0</td>\n",
       "      <td>958f54f4c46b53c8a0a9b8167d9140bc.jpg</td>\n",
       "    </tr>\n",
       "    <tr>\n",
       "      <th>1046</th>\n",
       "      <td>Baby Care</td>\n",
       "      <td>0</td>\n",
       "      <td>fd6cbcc22efb6b761bd564c28928483c.jpg</td>\n",
       "    </tr>\n",
       "    <tr>\n",
       "      <th>1047</th>\n",
       "      <td>Baby Care</td>\n",
       "      <td>0</td>\n",
       "      <td>5912e037d12774bb73a2048f35a00009.jpg</td>\n",
       "    </tr>\n",
       "    <tr>\n",
       "      <th>1048</th>\n",
       "      <td>Baby Care</td>\n",
       "      <td>0</td>\n",
       "      <td>c3edc504d1b4f0ba6224fa53a43a7ad6.jpg</td>\n",
       "    </tr>\n",
       "    <tr>\n",
       "      <th>1049</th>\n",
       "      <td>Baby Care</td>\n",
       "      <td>0</td>\n",
       "      <td>f2f027ad6a6df617c9f125173da71e44.jpg</td>\n",
       "    </tr>\n",
       "  </tbody>\n",
       "</table>\n",
       "<p>1050 rows × 3 columns</p>\n",
       "</div>"
      ],
      "text/plain": [
       "             category  encoded_category                                 image\n",
       "0     Home Furnishing                 4  55b85ea15a1536d46b7190ad6fff8ce7.jpg\n",
       "1           Baby Care                 0  7b72c92c2f6c40268628ec5f14c6d590.jpg\n",
       "2           Baby Care                 0  64d5d4a258243731dc7bbb1eef49ad74.jpg\n",
       "3     Home Furnishing                 4  d4684dcdc759dd9cdf41504698d737d8.jpg\n",
       "4     Home Furnishing                 4  6325b6870c54cd47be6ebfbffa620ec7.jpg\n",
       "...               ...               ...                                   ...\n",
       "1045        Baby Care                 0  958f54f4c46b53c8a0a9b8167d9140bc.jpg\n",
       "1046        Baby Care                 0  fd6cbcc22efb6b761bd564c28928483c.jpg\n",
       "1047        Baby Care                 0  5912e037d12774bb73a2048f35a00009.jpg\n",
       "1048        Baby Care                 0  c3edc504d1b4f0ba6224fa53a43a7ad6.jpg\n",
       "1049        Baby Care                 0  f2f027ad6a6df617c9f125173da71e44.jpg\n",
       "\n",
       "[1050 rows x 3 columns]"
      ]
     },
     "execution_count": 77,
     "metadata": {},
     "output_type": "execute_result"
    }
   ],
   "source": [
    "path = \"data/Images/\"\n",
    "\n",
    "image_data = data[[\"category\",\"encoded_category\", \"image\"]]\n",
    "categories = image_data[\"category\"].unique()\n",
    "image_data"
   ]
  },
  {
   "cell_type": "markdown",
   "metadata": {},
   "source": [
    "# Supervised Classification"
   ]
  },
  {
   "cell_type": "markdown",
   "metadata": {},
   "source": [
    "## Creating initial classification model"
   ]
  },
  {
   "cell_type": "markdown",
   "metadata": {},
   "source": [
    "Building the model that will be used for the supervised learning. \n",
    "\n",
    "We initialize a VGG16 pre-trained model, to which we will add layers that are specific to our data set."
   ]
  },
  {
   "cell_type": "code",
   "execution_count": 78,
   "metadata": {},
   "outputs": [],
   "source": [
    "def build_model() :\n",
    "    model0 = VGG16(include_top=False, weights=\"imagenet\", input_shape=(224, 224, 3))\n",
    "    for layer in model0.layers:\n",
    "        layer.trainable = False\n",
    "\n",
    "    x = model0.output\n",
    "    x = GlobalAveragePooling2D()(x)\n",
    "    x = Dense(256, activation='relu')(x)\n",
    "    x = Dropout(0.5)(x)\n",
    "    predictions = Dense(7, activation='softmax')(x)\n",
    "\n",
    "    model = Model(inputs=model0.input, outputs=predictions)\n",
    "    model.compile(loss=\"categorical_crossentropy\", optimizer='rmsprop', metrics=[\"accuracy\"])\n",
    "\n",
    "    print(model.summary())\n",
    "    \n",
    "    return model\n",
    "    "
   ]
  },
  {
   "cell_type": "code",
   "execution_count": 79,
   "metadata": {},
   "outputs": [],
   "source": [
    "data, test_data, y_train, y_test = train_test_split(\n",
    "    image_data[[\"encoded_category\", \"image\"]], image_data[\"category\"], test_size=0.2\n",
    ")"
   ]
  },
  {
   "cell_type": "markdown",
   "metadata": {},
   "source": [
    "Preprocessing the images to fit the model's requirements"
   ]
  },
  {
   "cell_type": "code",
   "execution_count": 80,
   "metadata": {},
   "outputs": [],
   "source": [
    "def image_preprocessing(data) :\n",
    "    prepared_images = []\n",
    "    for image in data['image'] :\n",
    "        img = (load_img(path + image, target_size=(224, 224)))\n",
    "        img = img_to_array(img)\n",
    "        img = img.reshape((img.shape[0], img.shape[1], img.shape[2]))\n",
    "        img = preprocess_input(img)\n",
    "        prepared_images.append(img)\n",
    "    return np.array(prepared_images)\n"
   ]
  },
  {
   "cell_type": "markdown",
   "metadata": {},
   "source": [
    "Separating our images into two sets, one used for training and validation and the other one for testing purposes"
   ]
  },
  {
   "cell_type": "code",
   "execution_count": 81,
   "metadata": {},
   "outputs": [
    {
     "name": "stderr",
     "output_type": "stream",
     "text": [
      "/Users/amelie-dzovinar/Dev/anaconda3/envs/p6/lib/python3.11/site-packages/PIL/Image.py:3157: DecompressionBombWarning: Image size (93680328 pixels) exceeds limit of 89478485 pixels, could be decompression bomb DOS attack.\n",
      "  warnings.warn(\n"
     ]
    },
    {
     "name": "stdout",
     "output_type": "stream",
     "text": [
      "(840, 224, 224, 3)\n",
      "(210, 224, 224, 3)\n"
     ]
    }
   ],
   "source": [
    "images = image_preprocessing(data)\n",
    "print(images.shape)\n",
    "test_images = image_preprocessing(test_data)\n",
    "print(test_images.shape)"
   ]
  },
  {
   "cell_type": "code",
   "execution_count": 82,
   "metadata": {},
   "outputs": [
    {
     "data": {
      "text/plain": [
       "array([[0., 0., 0., ..., 0., 0., 1.],\n",
       "       [0., 0., 0., ..., 0., 0., 0.],\n",
       "       [0., 0., 0., ..., 0., 1., 0.],\n",
       "       ...,\n",
       "       [0., 1., 0., ..., 0., 0., 0.],\n",
       "       [0., 0., 0., ..., 1., 0., 0.],\n",
       "       [0., 0., 0., ..., 1., 0., 0.]], dtype=float32)"
      ]
     },
     "execution_count": 82,
     "metadata": {},
     "output_type": "execute_result"
    }
   ],
   "source": [
    "X = images\n",
    "y = to_categorical(data['encoded_category'])\n",
    "\n",
    "X_test = test_images\n",
    "y_test = to_categorical(test_data['encoded_category'])\n",
    "\n",
    "y"
   ]
  },
  {
   "cell_type": "markdown",
   "metadata": {},
   "source": [
    "Separating the training data subset into train and validation data sets"
   ]
  },
  {
   "cell_type": "code",
   "execution_count": 83,
   "metadata": {},
   "outputs": [
    {
     "data": {
      "text/plain": [
       "(630, 224, 224, 3)"
      ]
     },
     "execution_count": 83,
     "metadata": {},
     "output_type": "execute_result"
    }
   ],
   "source": [
    "X_train, X_val, y_train, y_val = train_test_split(X, y, stratify=y, test_size=0.25, random_state=42)\n",
    "X_train.shape"
   ]
  },
  {
   "cell_type": "markdown",
   "metadata": {},
   "source": [
    "Defining the model's monitoring parameters. \n",
    "\n",
    "We will be monitoring validation loss and stop training if there is no decrease of the validation loss after 5 epochs.\n",
    "\n",
    "The validation loss is used to assess the model's performance on the validation data and is calculated from a sum of the errors for each example in the validation set."
   ]
  },
  {
   "cell_type": "code",
   "execution_count": 84,
   "metadata": {},
   "outputs": [
    {
     "name": "stdout",
     "output_type": "stream",
     "text": [
      "Model: \"model_1\"\n",
      "_________________________________________________________________\n",
      " Layer (type)                Output Shape              Param #   \n",
      "=================================================================\n",
      " input_2 (InputLayer)        [(None, 224, 224, 3)]     0         \n",
      "                                                                 \n",
      " block1_conv1 (Conv2D)       (None, 224, 224, 64)      1792      \n",
      "                                                                 \n",
      " block1_conv2 (Conv2D)       (None, 224, 224, 64)      36928     \n",
      "                                                                 \n",
      " block1_pool (MaxPooling2D)  (None, 112, 112, 64)      0         \n",
      "                                                                 \n",
      " block2_conv1 (Conv2D)       (None, 112, 112, 128)     73856     \n",
      "                                                                 \n",
      " block2_conv2 (Conv2D)       (None, 112, 112, 128)     147584    \n",
      "                                                                 \n",
      " block2_pool (MaxPooling2D)  (None, 56, 56, 128)       0         \n",
      "                                                                 \n",
      " block3_conv1 (Conv2D)       (None, 56, 56, 256)       295168    \n",
      "                                                                 \n",
      " block3_conv2 (Conv2D)       (None, 56, 56, 256)       590080    \n",
      "                                                                 \n",
      " block3_conv3 (Conv2D)       (None, 56, 56, 256)       590080    \n",
      "                                                                 \n",
      " block3_pool (MaxPooling2D)  (None, 28, 28, 256)       0         \n",
      "                                                                 \n",
      " block4_conv1 (Conv2D)       (None, 28, 28, 512)       1180160   \n",
      "                                                                 \n",
      " block4_conv2 (Conv2D)       (None, 28, 28, 512)       2359808   \n",
      "                                                                 \n",
      " block4_conv3 (Conv2D)       (None, 28, 28, 512)       2359808   \n",
      "                                                                 \n",
      " block4_pool (MaxPooling2D)  (None, 14, 14, 512)       0         \n",
      "                                                                 \n",
      " block5_conv1 (Conv2D)       (None, 14, 14, 512)       2359808   \n",
      "                                                                 \n",
      " block5_conv2 (Conv2D)       (None, 14, 14, 512)       2359808   \n",
      "                                                                 \n",
      " block5_conv3 (Conv2D)       (None, 14, 14, 512)       2359808   \n",
      "                                                                 \n",
      " block5_pool (MaxPooling2D)  (None, 7, 7, 512)         0         \n",
      "                                                                 \n",
      " global_average_pooling2d_1   (None, 512)              0         \n",
      " (GlobalAveragePooling2D)                                        \n",
      "                                                                 \n",
      " dense_2 (Dense)             (None, 256)               131328    \n",
      "                                                                 \n",
      " dropout_1 (Dropout)         (None, 256)               0         \n",
      "                                                                 \n",
      " dense_3 (Dense)             (None, 7)                 1799      \n",
      "                                                                 \n",
      "=================================================================\n",
      "Total params: 14,847,815\n",
      "Trainable params: 133,127\n",
      "Non-trainable params: 14,714,688\n",
      "_________________________________________________________________\n",
      "None\n"
     ]
    }
   ],
   "source": [
    "with tf.device('/gpu:0'): \n",
    "    first_model = build_model()\n",
    "\n",
    "model_saving_file = \"./first_model_best_weights.h5\"\n",
    "checkpoint = ModelCheckpoint(model_saving_file, monitor='val_loss', verbose=1, save_best_only=True, mode='min')\n",
    "es = EarlyStopping(monitor='val_loss', mode='min', verbose=1, patience=5)\n",
    "callbacks_list = [checkpoint, es]\n"
   ]
  },
  {
   "cell_type": "markdown",
   "metadata": {},
   "source": [
    "We use the training data to train the model and the validation data to evaluate the model's performance based on the validation loss and validation accuracy "
   ]
  },
  {
   "cell_type": "code",
   "execution_count": 85,
   "metadata": {},
   "outputs": [
    {
     "name": "stdout",
     "output_type": "stream",
     "text": [
      "Epoch 1/50\n",
      "10/10 [==============================] - ETA: 0s - loss: 6.2773 - accuracy: 0.4254\n",
      "Epoch 1: val_loss improved from inf to 1.62720, saving model to ./first_model_best_weights.h5\n",
      "10/10 [==============================] - 82s 8s/step - loss: 6.2773 - accuracy: 0.4254 - val_loss: 1.6272 - val_accuracy: 0.7095\n",
      "Epoch 2/50\n",
      "10/10 [==============================] - ETA: 0s - loss: 2.0822 - accuracy: 0.6810\n",
      "Epoch 2: val_loss improved from 1.62720 to 1.34508, saving model to ./first_model_best_weights.h5\n",
      "10/10 [==============================] - 79s 8s/step - loss: 2.0822 - accuracy: 0.6810 - val_loss: 1.3451 - val_accuracy: 0.7429\n",
      "Epoch 3/50\n",
      "10/10 [==============================] - ETA: 0s - loss: 1.2962 - accuracy: 0.7571\n",
      "Epoch 3: val_loss improved from 1.34508 to 1.13213, saving model to ./first_model_best_weights.h5\n",
      "10/10 [==============================] - 75s 8s/step - loss: 1.2962 - accuracy: 0.7571 - val_loss: 1.1321 - val_accuracy: 0.7571\n",
      "Epoch 4/50\n",
      "10/10 [==============================] - ETA: 0s - loss: 0.9219 - accuracy: 0.7921\n",
      "Epoch 4: val_loss improved from 1.13213 to 1.06605, saving model to ./first_model_best_weights.h5\n",
      "10/10 [==============================] - 75s 8s/step - loss: 0.9219 - accuracy: 0.7921 - val_loss: 1.0660 - val_accuracy: 0.7762\n",
      "Epoch 5/50\n",
      "10/10 [==============================] - ETA: 0s - loss: 0.5769 - accuracy: 0.8397\n",
      "Epoch 5: val_loss improved from 1.06605 to 0.94667, saving model to ./first_model_best_weights.h5\n",
      "10/10 [==============================] - 75s 8s/step - loss: 0.5769 - accuracy: 0.8397 - val_loss: 0.9467 - val_accuracy: 0.7810\n",
      "Epoch 6/50\n",
      "10/10 [==============================] - ETA: 0s - loss: 0.5685 - accuracy: 0.8270\n",
      "Epoch 6: val_loss did not improve from 0.94667\n",
      "10/10 [==============================] - 75s 8s/step - loss: 0.5685 - accuracy: 0.8270 - val_loss: 1.0550 - val_accuracy: 0.7762\n",
      "Epoch 7/50\n",
      "10/10 [==============================] - ETA: 0s - loss: 0.5147 - accuracy: 0.8587\n",
      "Epoch 7: val_loss improved from 0.94667 to 0.92246, saving model to ./first_model_best_weights.h5\n",
      "10/10 [==============================] - 77s 8s/step - loss: 0.5147 - accuracy: 0.8587 - val_loss: 0.9225 - val_accuracy: 0.8048\n",
      "Epoch 8/50\n",
      "10/10 [==============================] - ETA: 0s - loss: 0.3267 - accuracy: 0.9190\n",
      "Epoch 8: val_loss improved from 0.92246 to 0.90630, saving model to ./first_model_best_weights.h5\n",
      "10/10 [==============================] - 76s 8s/step - loss: 0.3267 - accuracy: 0.9190 - val_loss: 0.9063 - val_accuracy: 0.7905\n",
      "Epoch 9/50\n",
      "10/10 [==============================] - ETA: 0s - loss: 0.2642 - accuracy: 0.9063\n",
      "Epoch 9: val_loss did not improve from 0.90630\n",
      "10/10 [==============================] - 77s 8s/step - loss: 0.2642 - accuracy: 0.9063 - val_loss: 0.9159 - val_accuracy: 0.8095\n",
      "Epoch 10/50\n",
      "10/10 [==============================] - ETA: 0s - loss: 0.2085 - accuracy: 0.9254\n",
      "Epoch 10: val_loss did not improve from 0.90630\n",
      "10/10 [==============================] - 76s 8s/step - loss: 0.2085 - accuracy: 0.9254 - val_loss: 0.9811 - val_accuracy: 0.8190\n",
      "Epoch 11/50\n",
      "10/10 [==============================] - ETA: 0s - loss: 0.2189 - accuracy: 0.9317\n",
      "Epoch 11: val_loss did not improve from 0.90630\n",
      "10/10 [==============================] - 74s 8s/step - loss: 0.2189 - accuracy: 0.9317 - val_loss: 0.9417 - val_accuracy: 0.8095\n",
      "Epoch 12/50\n",
      "10/10 [==============================] - ETA: 0s - loss: 0.1482 - accuracy: 0.9508\n",
      "Epoch 12: val_loss did not improve from 0.90630\n",
      "10/10 [==============================] - 74s 8s/step - loss: 0.1482 - accuracy: 0.9508 - val_loss: 0.9941 - val_accuracy: 0.8000\n",
      "Epoch 13/50\n",
      "10/10 [==============================] - ETA: 0s - loss: 0.1082 - accuracy: 0.9603\n",
      "Epoch 13: val_loss did not improve from 0.90630\n",
      "10/10 [==============================] - 74s 8s/step - loss: 0.1082 - accuracy: 0.9603 - val_loss: 1.0029 - val_accuracy: 0.8333\n",
      "Epoch 13: early stopping\n"
     ]
    }
   ],
   "source": [
    "with tf.device('/gpu:0'): \n",
    "    first_model_history = first_model.fit(X_train, y_train, epochs=50, batch_size=64, \n",
    "                       callbacks=callbacks_list, validation_data=(X_val, y_val), verbose=1)"
   ]
  },
  {
   "cell_type": "markdown",
   "metadata": {},
   "source": [
    "The model stopped improving after 7 runs"
   ]
  },
  {
   "cell_type": "markdown",
   "metadata": {},
   "source": [
    "Score of the last epoch run :"
   ]
  },
  {
   "cell_type": "code",
   "execution_count": 86,
   "metadata": {},
   "outputs": [
    {
     "name": "stdout",
     "output_type": "stream",
     "text": [
      "20/20 [==============================] - 55s 3s/step - loss: 0.0060 - accuracy: 1.0000\n",
      "Training Accuracy: 1.0000\n",
      "Training Loss: 0.0060\n",
      "\n",
      "7/7 [==============================] - 18s 3s/step - loss: 1.0029 - accuracy: 0.8333\n",
      "Validation Accuracy: 0.8333\n",
      "Validation Loss: 1.0029\n"
     ]
    }
   ],
   "source": [
    "loss, accuracy = first_model.evaluate(X_train, y_train, verbose=True)\n",
    "print(\"Training Accuracy: {:.4f}\".format(accuracy))\n",
    "print(\"Training Loss: {:.4f}\".format(loss))\n",
    "print()\n",
    "loss, accuracy = first_model.evaluate(X_val, y_val, verbose=True)\n",
    "print(\"Validation Accuracy: {:.4f}\".format(accuracy))\n",
    "print(\"Validation Loss: {:.4f}\".format(loss))"
   ]
  },
  {
   "cell_type": "markdown",
   "metadata": {},
   "source": [
    "Score of the optimal epoch run :\n"
   ]
  },
  {
   "cell_type": "code",
   "execution_count": 87,
   "metadata": {},
   "outputs": [
    {
     "name": "stdout",
     "output_type": "stream",
     "text": [
      "Validation Accuracy: 0.7905\n",
      "Validation Loss: 0.9063\n",
      "Test Accuracy: 0.7857\n",
      "Test Loss: 1.0058\n"
     ]
    }
   ],
   "source": [
    "first_model.load_weights(model_saving_file)\n",
    "\n",
    "loss, accuracy = first_model.evaluate(X_val, y_val, verbose=False)\n",
    "print(\"Validation Accuracy: {:.4f}\".format(accuracy))\n",
    "print(\"Validation Loss: {:.4f}\".format(loss))\n",
    "\n",
    "loss, accuracy = first_model.evaluate(X_test, y_test, verbose=False)\n",
    "print(\"Test Accuracy: {:.4f}\".format(accuracy))\n",
    "print(\"Test Loss: {:.4f}\".format(loss))\n"
   ]
  },
  {
   "cell_type": "markdown",
   "metadata": {},
   "source": [
    "Plotting accuracy and loss values "
   ]
  },
  {
   "cell_type": "code",
   "execution_count": 88,
   "metadata": {},
   "outputs": [
    {
     "data": {
      "image/png": "[encoded data removed]",
      "text/plain": [
       "<Figure size 1200x400 with 2 Axes>"
      ]
     },
     "metadata": {},
     "output_type": "display_data"
    }
   ],
   "source": [
    "plt.figure(figsize=(12, 4))\n",
    "plt.subplot(1, 2, 1)\n",
    "\n",
    "plt.plot(first_model_history.history[\"accuracy\"])\n",
    "plt.plot(first_model_history.history['val_accuracy'])\n",
    "plt.title(\"VGG16 Model Accuracy\")\n",
    "plt.ylabel(\"Accuracy\")\n",
    "plt.xlabel(\"Epoch\")\n",
    "accuracy = \"Accuracy last value: \" + str(round(first_model_history.history[\"accuracy\"][-1], 2))\n",
    "val_accuracy = \"Validation accuracy last value: \" + str(round(first_model_history.history[\"val_accuracy\"][-1], 2))\n",
    "plt.legend([accuracy, val_accuracy])\n",
    "\n",
    "plt.subplot(1, 2, 2)\n",
    "plt.plot(first_model_history.history['loss'])\n",
    "plt.plot(first_model_history.history['val_loss'])\n",
    "plt.title(\"VGG16 Model Loss\")\n",
    "plt.ylabel(\"Loss\")\n",
    "plt.xlabel(\"Epoch\")\n",
    "loss = \"Loss last value: \" + str(round(first_model_history.history[\"loss\"][-1], 2))\n",
    "val_loss = \"Validation loss last value: \" + str(round(first_model_history.history[\"val_loss\"][-1], 2))\n",
    "plt.legend([loss, val_loss])\n",
    "\n",
    "plt.tight_layout()\n",
    "plt.show()\n"
   ]
  },
  {
   "cell_type": "markdown",
   "metadata": {},
   "source": [
    "Creating confusion matrix"
   ]
  },
  {
   "cell_type": "code",
   "execution_count": 89,
   "metadata": {},
   "outputs": [
    {
     "name": "stdout",
     "output_type": "stream",
     "text": [
      "7/7 [==============================] - 19s 3s/step\n",
      "[3 6 2 6 3 5 4 0 0 2 6 0 1 5 6 3 1 1 6 0 1 2 6 3 3 0 4 4 2 0 2 4 6 5 1 6 4\n",
      " 5 1 1 5 6 1 0 6 6 5 0 4 1 6 4 5 0 2 6 5 5 2 4 4 5 3 6 3 3 6 0 3 5 3 2 5 3\n",
      " 3 3 2 6 2 5 4 4 2 0 3 5 2 5 3 4 3 4 6 1 2 5 0 4 6 4 5 1 1 5 3 1 1 1 2 2 3\n",
      " 5 4 2 5 4 2 6 0 2 0 4 2 4 5 3 1 3 3 0 0 4 2 2 6 2 1 4 2 1 3 6 3 6 5 1 1 6\n",
      " 6 0 0 5 3 4 3 3 5 1 4 2 4 5 6 5 0 4 0 6 1 0 4 0 2 1 5 0 2 4 0 5 2 4 1 1 0\n",
      " 5 2 4 0 3 2 1 6 1 4 2 4 3 1 1 6 3 0 6 0 4 0 6 5 5]\n",
      "\n",
      "[3 6 2 6 3 5 4 0 5 2 6 0 1 5 2 3 1 2 6 0 1 2 6 6 2 4 4 4 3 4 2 4 6 5 1 6 4\n",
      " 5 1 1 5 6 5 3 6 6 5 5 2 1 6 0 5 0 2 6 5 5 2 4 4 5 3 6 3 3 6 0 3 5 3 2 5 3\n",
      " 3 3 1 6 2 1 4 4 2 0 3 5 2 5 3 4 4 0 6 3 2 5 0 4 6 4 5 1 1 5 3 1 1 1 2 2 3\n",
      " 5 4 2 5 0 2 6 0 2 0 0 2 4 5 2 1 3 3 0 2 4 2 2 6 0 3 4 2 1 1 6 3 6 2 1 2 2\n",
      " 6 0 0 3 3 0 3 3 5 1 4 2 4 5 6 5 3 4 4 2 1 5 4 0 2 4 5 0 2 3 0 5 2 0 2 1 2\n",
      " 5 5 4 0 3 2 1 6 3 4 2 4 3 1 1 6 4 4 6 0 4 0 5 5 5]\n"
     ]
    }
   ],
   "source": [
    "y_val_num = np.argmax(y_val, axis=1)\n",
    "y_val_pred = np.argmax(first_model.predict(X_val), axis=1)\n",
    "y_val_num = np.argmax(y_val, axis=1)\n",
    "print(y_val_num)\n",
    "print()\n",
    "print(y_val_pred)"
   ]
  },
  {
   "cell_type": "code",
   "execution_count": 93,
   "metadata": {},
   "outputs": [
    {
     "name": "stdout",
     "output_type": "stream",
     "text": [
      "[[18  0  2  2  4  3  0]\n",
      " [ 0 21  3  3  1  1  0]\n",
      " [ 1  1 26  1  0  1  0]\n",
      " [ 0  1  2 23  2  0  1]\n",
      " [ 6  0  1  1 24  0  0]\n",
      " [ 0  1  1  1  0 28  0]\n",
      " [ 0  0  3  0  0  1 26]]\n"
     ]
    }
   ],
   "source": [
    "conf_mat = confusion_matrix(y_val_num, y_val_pred)\n",
    "print(conf_mat)"
   ]
  },
  {
   "cell_type": "code",
   "execution_count": 99,
   "metadata": {},
   "outputs": [
    {
     "name": "stdout",
     "output_type": "stream",
     "text": [
      "              precision    recall  f1-score   support\n",
      "\n",
      "           0       0.72      0.62      0.67        29\n",
      "           1       0.88      0.72      0.79        29\n",
      "           2       0.68      0.87      0.76        30\n",
      "           3       0.74      0.79      0.77        29\n",
      "           4       0.77      0.75      0.76        32\n",
      "           5       0.82      0.90      0.86        31\n",
      "           6       0.96      0.87      0.91        30\n",
      "\n",
      "    accuracy                           0.79       210\n",
      "   macro avg       0.80      0.79      0.79       210\n",
      "weighted avg       0.80      0.79      0.79       210\n",
      "\n"
     ]
    }
   ],
   "source": [
    "print(classification_report(y_val_num, y_val_pred))"
   ]
  },
  {
   "cell_type": "code",
   "execution_count": 107,
   "metadata": {},
   "outputs": [
    {
     "data": {
      "image/png": "[encoded data removed]",
      "text/plain": [
       "<Figure size 600x400 with 2 Axes>"
      ]
     },
     "metadata": {},
     "output_type": "display_data"
    }
   ],
   "source": [
    "df_cm = pd.DataFrame(conf_mat, index = [label for label in categories],\n",
    "                  columns = [i for i in \"0123456\"])\n",
    "plt.figure(figsize = (6,4))\n",
    "sns.heatmap(df_cm, annot=True)\n",
    "plt.show()"
   ]
  }
 ],
 "metadata": {
  "kernelspec": {
   "display_name": "p6",
   "language": "python",
   "name": "python3"
  },
  "language_info": {
   "codemirror_mode": {
    "name": "ipython",
    "version": 3
   },
   "file_extension": ".py",
   "mimetype": "text/x-python",
   "name": "python",
   "nbconvert_exporter": "python",
   "pygments_lexer": "ipython3",
   "version": "3.11.5"
  },
  "orig_nbformat": 4
 },
 "nbformat": 4,
 "nbformat_minor": 2
}
